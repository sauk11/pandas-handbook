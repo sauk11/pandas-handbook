{
  "nbformat": 4,
  "nbformat_minor": 0,
  "metadata": {
    "colab": {
      "provenance": []
    },
    "kernelspec": {
      "name": "python3",
      "display_name": "Python 3"
    },
    "language_info": {
      "name": "python"
    }
  },
  "cells": [
    {
      "cell_type": "markdown",
      "source": [
        "Index \n",
        "- Reading files\n",
        "-checking null\n",
        "-loc() , iloc()\n",
        "-making dataframe\n",
        "-missing data handling\n",
        "-iteration\n",
        "-isin\n",
        "-changing datatype\n",
        "-groupby\n",
        "-concat\n",
        "-daterange\n",
        "-rank\n",
        "-replace\n",
        "-between\n",
        "-sample\n",
        "-starswith\n",
        "-endswith\n",
        "-split\n",
        "-get()\n",
        "-upper, lower\n",
        "-len\n",
        "-reading multiple zip files from folder using pandas \n",
        "-lambda function\n",
        "-join\n",
        "-pandas for json normalization\n"
      ],
      "metadata": {
        "id": "_E6b7mL9mxwC"
      }
    },
    {
      "cell_type": "code",
      "execution_count": null,
      "metadata": {
        "id": "lYGsgerXta_T"
      },
      "outputs": [],
      "source": [
        "import pandas as pd"
      ]
    },
    {
      "cell_type": "markdown",
      "source": [
        "reading file"
      ],
      "metadata": {
        "id": "ars4Ym5fWLKf"
      }
    },
    {
      "cell_type": "code",
      "source": [
        "\n",
        "df = pd.read_csv(\"sonar data.csv\")\n",
        "#df = pd.read_csv(\"sona data.csv\", sep = ' ;')"
      ],
      "metadata": {
        "id": "qeNIWxJ4tmLT"
      },
      "execution_count": null,
      "outputs": []
    },
    {
      "cell_type": "code",
      "source": [
        "df.info()"
      ],
      "metadata": {
        "id": "yoi0VI51t_xE"
      },
      "execution_count": null,
      "outputs": []
    },
    {
      "cell_type": "code",
      "source": [
        "df.describe()"
      ],
      "metadata": {
        "id": "m5yUE--VvY7B"
      },
      "execution_count": null,
      "outputs": []
    },
    {
      "cell_type": "code",
      "source": [
        "df.shape"
      ],
      "metadata": {
        "id": "QwTjczSmvi7y"
      },
      "execution_count": null,
      "outputs": []
    },
    {
      "cell_type": "markdown",
      "source": [
        "checking null"
      ],
      "metadata": {
        "id": "nRJcNAbQWN49"
      }
    },
    {
      "cell_type": "code",
      "source": [
        "df.isna().sum()"
      ],
      "metadata": {
        "id": "gzOLhL7hvtsn"
      },
      "execution_count": null,
      "outputs": []
    },
    {
      "cell_type": "markdown",
      "source": [
        "loc[] : loc[] retrieves rows based on index label\n"
      ],
      "metadata": {
        "id": "8PGHAZI7y6A0"
      }
    },
    {
      "cell_type": "markdown",
      "source": [
        "iloc[] : iloc[] retrieves rows based on index position"
      ],
      "metadata": {
        "id": "sEVFLA-ezO-q"
      }
    },
    {
      "cell_type": "code",
      "source": [
        "#loc attribute access a group of rows and columns by labels\n",
        "\n",
        "df.loc[:, [\"0.0428\", \"0.0032\"]]"
      ],
      "metadata": {
        "id": "tYgmitftv1ZV"
      },
      "execution_count": null,
      "outputs": []
    },
    {
      "cell_type": "code",
      "source": [
        "df.iloc[1:3, 0:3]"
      ],
      "metadata": {
        "id": "PelfdD_ewvsV"
      },
      "execution_count": null,
      "outputs": []
    },
    {
      "cell_type": "markdown",
      "source": [
        "making dataframe"
      ],
      "metadata": {
        "id": "ZTfrW2N1ywgN"
      }
    },
    {
      "cell_type": "code",
      "source": [
        "lst = {'firstname' : ['kajal', 'hrutuja', 'bharti'], 'lastnmae': ['jadhav', 'baikar', 'choudhary'], 'Age':[21, 22, 22]}"
      ],
      "metadata": {
        "id": "IHVXJQY-eyH5"
      },
      "execution_count": null,
      "outputs": []
    },
    {
      "cell_type": "code",
      "source": [
        "df = pd.DataFrame(lst)"
      ],
      "metadata": {
        "id": "1mVZ_r6hl6jQ"
      },
      "execution_count": null,
      "outputs": []
    },
    {
      "cell_type": "code",
      "source": [
        "df"
      ],
      "metadata": {
        "id": "d6Wwr5Ghmjjw"
      },
      "execution_count": null,
      "outputs": []
    },
    {
      "cell_type": "code",
      "source": [
        "df.loc[df.Age == 22, \"Can drink\"] = 'Yes' "
      ],
      "metadata": {
        "id": "fR1n4HElWlpk"
      },
      "execution_count": null,
      "outputs": []
    },
    {
      "cell_type": "code",
      "source": [
        "df"
      ],
      "metadata": {
        "id": "FMtQOwY7XAJv"
      },
      "execution_count": null,
      "outputs": []
    },
    {
      "cell_type": "markdown",
      "source": [
        "missing data handle"
      ],
      "metadata": {
        "id": "VN6ERBxaYHpo"
      }
    },
    {
      "cell_type": "code",
      "source": [
        "\n",
        "df.fillna('no')"
      ],
      "metadata": {
        "id": "B4e6cEh7YMAw"
      },
      "execution_count": null,
      "outputs": []
    },
    {
      "cell_type": "code",
      "source": [
        "df.dropna()"
      ],
      "metadata": {
        "id": "xJpf391UYZ_7"
      },
      "execution_count": null,
      "outputs": []
    },
    {
      "cell_type": "code",
      "source": [
        "df.notnull()"
      ],
      "metadata": {
        "id": "XpEdOiuj6a4E"
      },
      "execution_count": null,
      "outputs": []
    },
    {
      "cell_type": "markdown",
      "source": [
        "iteration "
      ],
      "metadata": {
        "id": "zjERGgwcYnqT"
      }
    },
    {
      "cell_type": "code",
      "source": [
        "for i , j in df.iterrows():\n",
        "  print(i, j)\n",
        "  "
      ],
      "metadata": {
        "id": "_8RFuODOYrTV"
      },
      "execution_count": null,
      "outputs": []
    },
    {
      "cell_type": "markdown",
      "source": [
        "isin"
      ],
      "metadata": {
        "id": "TB6o2zj6ZQ--"
      }
    },
    {
      "cell_type": "code",
      "source": [
        "new = df[\"Age\"].isin([22])\n",
        "new"
      ],
      "metadata": {
        "id": "Bt8f9_XwZSl1"
      },
      "execution_count": null,
      "outputs": []
    },
    {
      "cell_type": "code",
      "source": [
        "new = df[\"Age\"].isin([22, 21])\n",
        "new"
      ],
      "metadata": {
        "id": "0OrIBZziZnbQ"
      },
      "execution_count": null,
      "outputs": []
    },
    {
      "cell_type": "markdown",
      "source": [
        "change data type of data"
      ],
      "metadata": {
        "id": "o7ZpnfX0a5Bs"
      }
    },
    {
      "cell_type": "code",
      "source": [
        "df.Age.astype('int64')"
      ],
      "metadata": {
        "id": "Rp3Zx3H5a75h"
      },
      "execution_count": null,
      "outputs": []
    },
    {
      "cell_type": "markdown",
      "source": [
        "group by"
      ],
      "metadata": {
        "id": "fDoj_LCnVNg-"
      }
    },
    {
      "cell_type": "code",
      "source": [
        "df.groupby('Age').count()"
      ],
      "metadata": {
        "id": "H1JiMo70zLNd"
      },
      "execution_count": null,
      "outputs": []
    },
    {
      "cell_type": "code",
      "source": [
        "df.groupby('Age').groups"
      ],
      "metadata": {
        "id": "pTaOO-xwmn4D"
      },
      "execution_count": null,
      "outputs": []
    },
    {
      "cell_type": "code",
      "source": [
        "\n",
        "grp = df.groupby('Age')\n",
        "for age, group in grp:\n",
        "    #print(age)\n",
        "    print(group)\n",
        "    print()"
      ],
      "metadata": {
        "id": "jr-BHzrnyTWA"
      },
      "execution_count": null,
      "outputs": []
    },
    {
      "cell_type": "markdown",
      "source": [
        "concat"
      ],
      "metadata": {
        "id": "XjLZOSiVVVS0"
      }
    },
    {
      "cell_type": "code",
      "source": [
        "  #concatinating two df ... but removing column names of df1 \n",
        "  res = pd.concat([df, df1], ignore_index=True)\n",
        " "
      ],
      "metadata": {
        "id": "xAu4fiEWzsd8"
      },
      "execution_count": null,
      "outputs": []
    },
    {
      "cell_type": "code",
      "source": [
        "#taking only common things present in two dfs\n",
        "res2 = pd.concat([df, df1], axis=1, join='inner')\n",
        " "
      ],
      "metadata": {
        "id": "NQ36mFl55igg"
      },
      "execution_count": null,
      "outputs": []
    },
    {
      "cell_type": "code",
      "source": [
        "# using .merge() function... key could be any column you want to join on \n",
        "res = pd.merge(df, df1, on='key')"
      ],
      "metadata": {
        "id": "fo345jRiFiwb"
      },
      "execution_count": null,
      "outputs": []
    },
    {
      "cell_type": "code",
      "source": [
        "#left join\n",
        "res = pd.merge(df, df1, how='left', on=['key', 'key1'])\n",
        " "
      ],
      "metadata": {
        "id": "yegGItvtGSf-"
      },
      "execution_count": null,
      "outputs": []
    },
    {
      "cell_type": "markdown",
      "source": [
        "date range"
      ],
      "metadata": {
        "id": "Fjxe7iaZVaGj"
      }
    },
    {
      "cell_type": "code",
      "source": [
        "#Working with date and time using Pandas\n",
        "\n",
        "data = pd.date_range('1/1/2011', periods = 10, freq ='D')\n",
        " "
      ],
      "metadata": {
        "id": "DLamL-A3GVgJ"
      },
      "execution_count": null,
      "outputs": []
    },
    {
      "cell_type": "code",
      "source": [
        "data"
      ],
      "metadata": {
        "id": "vTQtWbbXGwCM"
      },
      "execution_count": null,
      "outputs": []
    },
    {
      "cell_type": "markdown",
      "source": [
        "rank"
      ],
      "metadata": {
        "id": "UgyzNhyabQXx"
      }
    },
    {
      "cell_type": "code",
      "source": [
        "df[\"Rank\"] = df[\"firstname\"].rank()\n",
        "df"
      ],
      "metadata": {
        "id": "EnJGg6EqbRy_"
      },
      "execution_count": null,
      "outputs": []
    },
    {
      "cell_type": "code",
      "source": [
        "#sort\n",
        "df.sort_values(\"firstname\", inplace = True)\n",
        "df"
      ],
      "metadata": {
        "id": "l_dsCHWpbhxI"
      },
      "execution_count": null,
      "outputs": []
    },
    {
      "cell_type": "markdown",
      "source": [
        "replace"
      ],
      "metadata": {
        "id": "yQQeN4wGsm2k"
      }
    },
    {
      "cell_type": "code",
      "source": [
        "df.firstname =[firstname.replace(\"a\", \"_\") for firstname in df.firstname]\n",
        "df"
      ],
      "metadata": {
        "id": "dYDlaRMlspVE"
      },
      "execution_count": null,
      "outputs": []
    },
    {
      "cell_type": "code",
      "source": [
        "#query\n",
        "df.query('lastnmae == \"jadhav\"', inplace = True)\n",
        "df"
      ],
      "metadata": {
        "id": "Lwq2Y6vFs_KB"
      },
      "execution_count": null,
      "outputs": []
    },
    {
      "cell_type": "markdown",
      "source": [
        "between"
      ],
      "metadata": {
        "id": "xBd7BBTIWBYy"
      }
    },
    {
      "cell_type": "code",
      "source": [
        "a = (df['Age'] >= 20) & (df['Age'] < 22)\n",
        "a"
      ],
      "metadata": {
        "id": "SjuXdYwbHmCi"
      },
      "execution_count": null,
      "outputs": []
    },
    {
      "cell_type": "markdown",
      "source": [
        "sample "
      ],
      "metadata": {
        "id": "mUWTpqA1z7z9"
      }
    },
    {
      "cell_type": "code",
      "source": [
        "a = df.sample(n = 1) \n",
        "a"
      ],
      "metadata": {
        "id": "fgK5SKYuuE8a"
      },
      "execution_count": null,
      "outputs": []
    },
    {
      "cell_type": "code",
      "source": [
        "#if \n",
        "\n",
        "if (0.25*(len(df))== 1.2):\n",
        "    print( \"Cool\")\n",
        "else:\n",
        "  print(\"not cool\")"
      ],
      "metadata": {
        "id": "ET1V-VkCz-lM"
      },
      "execution_count": null,
      "outputs": []
    },
    {
      "cell_type": "markdown",
      "source": [
        "startswith   - gives boolean output\n"
      ],
      "metadata": {
        "id": "PfhJmpKphBir"
      }
    },
    {
      "cell_type": "code",
      "source": [
        "txt = \"welcome to pandas handbook\"\n",
        "\n",
        "x = txt.startswith(\"wel\")\n",
        "y = txt.startswith(\"to\", 8, 12)\n",
        "print(x)\n",
        "print(y)"
      ],
      "metadata": {
        "id": "pck86iBt1VpJ"
      },
      "execution_count": null,
      "outputs": []
    },
    {
      "cell_type": "code",
      "source": [
        "x = df[\"firstname\"].str.startswith(\"k\")\n",
        "x"
      ],
      "metadata": {
        "id": "ydJBQj5Epr1Y"
      },
      "execution_count": null,
      "outputs": []
    },
    {
      "cell_type": "markdown",
      "source": [
        "endswith"
      ],
      "metadata": {
        "id": "uRDmqzxLhpbk"
      }
    },
    {
      "cell_type": "code",
      "source": [
        "txt = \"welcome to pandas handbook\"\n",
        "\n",
        "x = txt.endswith(\"book\")\n",
        "y = txt.endswith(\"come\", 3, 7)\n",
        "print(x)\n",
        "print(y)"
      ],
      "metadata": {
        "id": "XZ_gA3a6hMZ5"
      },
      "execution_count": null,
      "outputs": []
    },
    {
      "cell_type": "markdown",
      "source": [
        "split"
      ],
      "metadata": {
        "id": "7fr54kowjAwJ"
      }
    },
    {
      "cell_type": "code",
      "source": [
        "lst = {'firstname' : ['kajal_jadhav', 'hrutuja_baikar', 'bharti_choudhary'], 'Age':[21, 22, 22]}"
      ],
      "metadata": {
        "id": "LCbNdpb2jVz4"
      },
      "execution_count": null,
      "outputs": []
    },
    {
      "cell_type": "code",
      "source": [
        "df = pd.DataFrame(lst)"
      ],
      "metadata": {
        "id": "tQamaBE5k-Tf"
      },
      "execution_count": null,
      "outputs": []
    },
    {
      "cell_type": "code",
      "source": [
        "\n",
        "df1= df[\"firstname\"].str.split(\"_\", n = 1, expand = True)  #n=1 will make change only once in every string and expand =false will keep same df instead of making new \n",
        " "
      ],
      "metadata": {
        "id": "1uYoRzeTh4V5"
      },
      "execution_count": null,
      "outputs": []
    },
    {
      "cell_type": "code",
      "source": [
        "df1"
      ],
      "metadata": {
        "id": "iysnKGUqj8X2"
      },
      "execution_count": null,
      "outputs": []
    },
    {
      "cell_type": "markdown",
      "source": [
        "Upper() and lower()"
      ],
      "metadata": {
        "id": "54ImbOywlvg2"
      }
    },
    {
      "cell_type": "code",
      "source": [
        "df['firstname'] = df['firstname'].str.upper()"
      ],
      "metadata": {
        "id": "sxI5ZtoJj9Rf"
      },
      "execution_count": null,
      "outputs": []
    },
    {
      "cell_type": "code",
      "source": [
        "df"
      ],
      "metadata": {
        "id": "dnVgM3gwlhEs"
      },
      "execution_count": null,
      "outputs": []
    },
    {
      "cell_type": "code",
      "source": [
        "df['firstname'] = df['firstname'].str.lower()"
      ],
      "metadata": {
        "id": "sgGoMoXBlpus"
      },
      "execution_count": null,
      "outputs": []
    },
    {
      "cell_type": "code",
      "source": [
        "df"
      ],
      "metadata": {
        "id": "u34vcYNEl3NG"
      },
      "execution_count": null,
      "outputs": []
    },
    {
      "cell_type": "markdown",
      "source": [
        "get()"
      ],
      "metadata": {
        "id": "aJe_C5cgmVPl"
      }
    },
    {
      "cell_type": "code",
      "source": [
        "print(df.get(\"firstname\"))"
      ],
      "metadata": {
        "id": "eHRKIr90l3-0"
      },
      "execution_count": null,
      "outputs": []
    },
    {
      "cell_type": "markdown",
      "source": [
        "len()"
      ],
      "metadata": {
        "id": "A_xLZyGymimu"
      }
    },
    {
      "cell_type": "code",
      "source": [
        "df[df['firstname'].str.len() > 14]"
      ],
      "metadata": {
        "id": "TjC3WcoTmEif"
      },
      "execution_count": null,
      "outputs": []
    },
    {
      "cell_type": "code",
      "source": [
        "df['firstname'].str.len()"
      ],
      "metadata": {
        "id": "x4ET3MPommno"
      },
      "execution_count": null,
      "outputs": []
    },
    {
      "cell_type": "markdown",
      "source": [
        "Reading multiple zip files from folder using pandas "
      ],
      "metadata": {
        "id": "ur24UwB9cUBs"
      }
    },
    {
      "cell_type": "code",
      "source": [
        "import os,os.path\n",
        "import glob\n",
        "os.chdir(r'C:\\Users\\kajal\\Documents\\MCR')\n",
        "os.listdir()\n",
        "glob.glob('*.{}'.format('csv'))"
      ],
      "metadata": {
        "id": "PiZzr8oTmtUu"
      },
      "execution_count": null,
      "outputs": []
    },
    {
      "cell_type": "code",
      "source": [
        "import zipfile\n",
        "zf = zipfile.ZipFile('file_name')\n",
        "c =zf.namelist()\n",
        "pd.read_csv(zf.open(f) for f in c )"
      ],
      "metadata": {
        "id": "t_PCcyfCcPQH"
      },
      "execution_count": null,
      "outputs": []
    },
    {
      "cell_type": "markdown",
      "source": [
        "lambda function"
      ],
      "metadata": {
        "id": "wpeatUXIfm2e"
      }
    },
    {
      "cell_type": "code",
      "source": [
        "df.groupby('a').agg({'b': 'sum', 'c': lambda x: ' '.join(x)})"
      ],
      "metadata": {
        "id": "MTLc3X9lflk_"
      },
      "execution_count": null,
      "outputs": []
    },
    {
      "cell_type": "markdown",
      "source": [
        "join"
      ],
      "metadata": {
        "id": "fp2dRLSDgI-9"
      }
    },
    {
      "cell_type": "code",
      "source": [
        "df.join(other_df, on= ['col1','col2'], how = outer, sort)"
      ],
      "metadata": {
        "id": "xHQO0D2QfrqF"
      },
      "execution_count": null,
      "outputs": []
    },
    {
      "cell_type": "markdown",
      "source": [
        "Pandas for json normalization"
      ],
      "metadata": {
        "id": "oVq26Xotgn8W"
      }
    },
    {
      "cell_type": "code",
      "source": [
        "data = '{\"employee_name\": \"James\", \"email\": \"james@gmail.com\", \"job_profile\": [{\"title1\":\"Team Lead\", \"title2\":\"Sr. Developer\"}]}'"
      ],
      "metadata": {
        "id": "sF-cVsr5gq0-"
      },
      "execution_count": null,
      "outputs": []
    },
    {
      "cell_type": "code",
      "source": [
        "pd.read_json(data,orient = 'records')"
      ],
      "metadata": {
        "id": "RQbovprBgwds"
      },
      "execution_count": null,
      "outputs": []
    },
    {
      "cell_type": "code",
      "source": [
        "pd.read_json(data,orient = 'index')"
      ],
      "metadata": {
        "id": "g3EVhvjBgwhL"
      },
      "execution_count": null,
      "outputs": []
    },
    {
      "cell_type": "code",
      "source": [
        "pd.read_json(data,orient = 'columns')"
      ],
      "metadata": {
        "id": "6dXXaAFmgwkT"
      },
      "execution_count": null,
      "outputs": []
    },
    {
      "cell_type": "code",
      "source": [
        "df1.to_json(orient= 'index')"
      ],
      "metadata": {
        "id": "GhJ6ScE2gwnj"
      },
      "execution_count": null,
      "outputs": []
    },
    {
      "cell_type": "code",
      "source": [
        "df1.to_json(orient= 'columns')"
      ],
      "metadata": {
        "id": "ABF4CHKYhCZ8"
      },
      "execution_count": null,
      "outputs": []
    },
    {
      "cell_type": "code",
      "source": [
        "df1.to_json(orient= 'records')"
      ],
      "metadata": {
        "id": "-LvmkzhohCdO"
      },
      "execution_count": null,
      "outputs": []
    },
    {
      "cell_type": "code",
      "source": [
        "df1.to_json(orient= 'table')"
      ],
      "metadata": {
        "id": "WGwkBZw0hCg0"
      },
      "execution_count": null,
      "outputs": []
    },
    {
      "cell_type": "code",
      "source": [
        "data4 = '{\"schema\":{\"fields\":[{\"name\":\"index\",\"type\":\"string\"},{\"name\":\"name\",\"type\":\"string\"},{\"name\":\"id\",\"type\":\"string\"}],\n",
        "\"primaryKey\":[\"index\"],\"pandas_version\":\"0.20.0\"},\"data\":[{\"index\":\"row1\",\"name\":\"saurabh\",\"id\":\"50\"},{\"index\":\"row2\",\"name\":\"saurabh\",\"id\":\"50\"}]}'"
      ],
      "metadata": {
        "id": "16Eogs3ShPPQ"
      },
      "execution_count": null,
      "outputs": []
    },
    {
      "cell_type": "code",
      "source": [
        "pd.read_json(data4,orient = 'table')"
      ],
      "metadata": {
        "id": "mqBHZUPvhPS5"
      },
      "execution_count": null,
      "outputs": []
    },
    {
      "cell_type": "code",
      "source": [
        "df1.to_json(orient= 'split')"
      ],
      "metadata": {
        "id": "hhwba_WUhPV8"
      },
      "execution_count": null,
      "outputs": []
    },
    {
      "cell_type": "code",
      "source": [
        "data1 = {\"employee_name\": \"James\", \"email\": \"james@gmail.com\", \"job_profile\": {\"title1\":\"Team Lead\", \"title2\":\"Sr. Developer\"}}"
      ],
      "metadata": {
        "id": "2bUF6s5xhPZV"
      },
      "execution_count": null,
      "outputs": []
    },
    {
      "cell_type": "code",
      "source": [
        "pd.json_normalize(data1,max_level = 0)"
      ],
      "metadata": {
        "id": "HzBxwitohrle"
      },
      "execution_count": null,
      "outputs": []
    },
    {
      "cell_type": "code",
      "source": [
        "data2 = [\n",
        "    {\n",
        "        \"state\": \"Florida\",\n",
        "        \"shortname\": \"FL\",\n",
        "        \"info\": [{\"governor\": \"Rick Scott\"}],\n",
        "        \"counties\": [\n",
        "            {\"name\": \"Dade\", \"population\": 12345},\n",
        "            {\"name\": \"Broward\", \"population\": 40000},\n",
        "            {\"name\": \"Palm Beach\", \"population\": 60000},\n",
        "        ],\n",
        "    },\n",
        "    {\n",
        "        \"state\": \"Ohio\",\n",
        "        \"shortname\": \"OH\",\n",
        "        \"info\": [{\"governor\": \"John Kasich\"}],\n",
        "        \"counties\": [\n",
        "            {\"name\": \"Summit\", \"population\": 1234},\n",
        "            {\"name\": \"Cuyahoga\", \"population\": 1337},\n",
        "        ],\n",
        "    },\n",
        "]"
      ],
      "metadata": {
        "id": "PZqOy29xhrow"
      },
      "execution_count": null,
      "outputs": []
    },
    {
      "cell_type": "code",
      "source": [
        "pd.json_normalize(data2,record_path = ['counties'],meta = ['info'])"
      ],
      "metadata": {
        "id": "wyqfBiz4hrry"
      },
      "execution_count": null,
      "outputs": []
    },
    {
      "cell_type": "code",
      "source": [
        "data3 = [\n",
        "    {\n",
        "        \"state\": \"Florida\",\n",
        "        \"shortname\": \"FL\",\n",
        "        \"info\": [{\"governor\": \"Rick Scott\"}],\n",
        "        \"counties\": [\n",
        "            {\"name\": \"Dade\", \"population\": 12345},\n",
        "            {\"name\": \"Broward\", \"population\": 40000},\n",
        "            {\"name\": \"Palm Beach\", \"population\": 60000},\n",
        "        ],\n",
        "    },\n",
        "    {\n",
        "        \"state\": \"Ohio\",\n",
        "        \"shortname\": \"OH\",\n",
        "        \"info\": [{\"governor\": \"John Kasich\"}],\n",
        "        \"counties\": [\n",
        "            {\"name\": \"Summit\", \"population\": 1234},\n",
        "            {\"name\": \"Cuyahoga\", \"population\": 1337},\n",
        "        ],\n",
        "    },\n",
        "]"
      ],
      "metadata": {
        "id": "25purQHZhru6"
      },
      "execution_count": null,
      "outputs": []
    },
    {
      "cell_type": "code",
      "source": [
        "df= pd.json_normalize(data3,record_path =['counties'],meta = ['state'])"
      ],
      "metadata": {
        "id": "PBrOdRYVh7R3"
      },
      "execution_count": null,
      "outputs": []
    }
  ]
}